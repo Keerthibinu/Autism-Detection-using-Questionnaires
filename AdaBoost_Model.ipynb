{
  "nbformat": 4,
  "nbformat_minor": 0,
  "metadata": {
    "colab": {
      "provenance": []
    },
    "kernelspec": {
      "name": "python3",
      "display_name": "Python 3"
    },
    "language_info": {
      "name": "python"
    }
  },
  "cells": [
    {
      "cell_type": "markdown",
      "source": [
        "**IMPORTING LIBRARIES**"
      ],
      "metadata": {
        "id": "APV3-Ur-EwFC"
      }
    },
    {
      "cell_type": "code",
      "source": [
        "import pandas as pd\n",
        "import numpy as np\n",
        "from sklearn.preprocessing import StandardScaler\n",
        "from sklearn.model_selection import train_test_split\n",
        "from sklearn.ensemble import AdaBoostClassifier\n",
        "from sklearn.datasets import make_classification\n",
        "from sklearn.metrics import accuracy_score"
      ],
      "metadata": {
        "id": "iq4Pnm1D3U-7"
      },
      "execution_count": null,
      "outputs": []
    },
    {
      "cell_type": "markdown",
      "source": [
        "**DATA PREPROCESSING**"
      ],
      "metadata": {
        "id": "mOe9bOfIsxCX"
      }
    },
    {
      "cell_type": "code",
      "source": [
        "df= pd.read_csv(\"/New_data.csv\")\n",
        "\n",
        "df.replace('?', pd.NA, inplace=True)\n",
        "\n",
        "# List of categorical columns for which you want to impute missing values\n",
        "categorical_cols = ['ethnicity', 'relation']\n",
        "\n",
        "# Impute missing values with the mode of each column\n",
        "for col in categorical_cols:\n",
        "    mode_val = df[col].mode().iloc[0]  # mode() returns a Series, so use iloc[0] to get the first value\n",
        "    df[col].fillna(mode_val, inplace=True)\n",
        "\n",
        "\n",
        "numerical_cols = ['age']  # Add all your numerical columns here\n",
        "df[numerical_cols] = df[numerical_cols].apply(pd.to_numeric, errors='coerce')\n",
        "\n",
        "# Replace missing values with the mean for each numerical column\n",
        "for col in numerical_cols:\n",
        "    mean_val = df[col].mean()\n",
        "    df[col].fillna(mean_val, inplace=True)\n",
        "\n",
        "columns_to_replace = ['jundice', 'Class/ASD','gender','relation']\n",
        "df[columns_to_replace] = df[columns_to_replace].replace({'Self':1,'self':1,'Parent':1,'Healthcare':1,'Health care professional':1,'Health Care Professional':1,'Others':0,'Relative':0,'family member':0,'f':0, 'm':1, 'YES': 1, 'NO': 0, 'yes':1,'no':0,'Yes':1,'No':0})\n",
        "\n",
        "#df=df.drop('ethnicity',axis=1)\n",
        "\n",
        "df = pd.get_dummies(df, columns=['ethnicity'], prefix='ethnicity', drop_first=True)\n",
        "print(df)\n"
      ],
      "metadata": {
        "colab": {
          "base_uri": "https://localhost:8080/"
        },
        "id": "FvLfmVa1Jpq6",
        "outputId": "f028bde2-15d6-4d6c-f1fc-350d8b4fd70e"
      },
      "execution_count": null,
      "outputs": [
        {
          "output_type": "stream",
          "name": "stdout",
          "text": [
            "      A1_Score  A2_Score  A3_Score  A4_Score  A5_Score  A6_Score  A7_Score  \\\n",
            "0            1         1         1         1         0         0         1   \n",
            "1            1         1         0         1         0         0         0   \n",
            "2            1         1         0         1         1         0         1   \n",
            "3            1         1         0         1         0         0         1   \n",
            "4            1         0         0         0         0         0         0   \n",
            "...        ...       ...       ...       ...       ...       ...       ...   \n",
            "2149         0         0         0         0         0         0         0   \n",
            "2150         0         0         1         1         1         0         1   \n",
            "2151         1         0         1         1         1         1         1   \n",
            "2152         1         0         0         0         0         0         0   \n",
            "2153         1         1         0         0         1         1         0   \n",
            "\n",
            "      A8_Score  A9_Score  A10_Score  ...  ethnicity_South Asian  \\\n",
            "0            1         0          0  ...                      0   \n",
            "1            1         0          1  ...                      0   \n",
            "2            1         1          1  ...                      0   \n",
            "3            1         0          1  ...                      0   \n",
            "4            1         0          0  ...                      0   \n",
            "...        ...       ...        ...  ...                    ...   \n",
            "2149         0         0          1  ...                      0   \n",
            "2150         0         1          0  ...                      0   \n",
            "2151         1         1          1  ...                      0   \n",
            "2152         1         0          1  ...                      0   \n",
            "2153         1         1          0  ...                      0   \n",
            "\n",
            "      ethnicity_Turkish  ethnicity_White European  ethnicity_White-European  \\\n",
            "0                     0                         0                         1   \n",
            "1                     0                         0                         0   \n",
            "2                     0                         0                         0   \n",
            "3                     0                         0                         1   \n",
            "4                     0                         0                         1   \n",
            "...                 ...                       ...                       ...   \n",
            "2149                  0                         1                         0   \n",
            "2150                  0                         0                         0   \n",
            "2151                  0                         0                         0   \n",
            "2152                  0                         1                         0   \n",
            "2153                  0                         0                         0   \n",
            "\n",
            "      ethnicity_asian  ethnicity_black  ethnicity_middle eastern  \\\n",
            "0                   0                0                         0   \n",
            "1                   0                0                         0   \n",
            "2                   0                0                         0   \n",
            "3                   0                0                         0   \n",
            "4                   0                0                         0   \n",
            "...               ...              ...                       ...   \n",
            "2149                0                0                         0   \n",
            "2150                0                1                         0   \n",
            "2151                0                0                         1   \n",
            "2152                0                0                         0   \n",
            "2153                1                0                         0   \n",
            "\n",
            "      ethnicity_mixed  ethnicity_others  ethnicity_south asian  \n",
            "0                   0                 0                      0  \n",
            "1                   0                 0                      0  \n",
            "2                   0                 0                      0  \n",
            "3                   0                 0                      0  \n",
            "4                   0                 0                      0  \n",
            "...               ...               ...                    ...  \n",
            "2149                0                 0                      0  \n",
            "2150                0                 0                      0  \n",
            "2151                0                 0                      0  \n",
            "2152                0                 0                      0  \n",
            "2153                0                 0                      0  \n",
            "\n",
            "[2154 rows x 33 columns]\n"
          ]
        }
      ]
    },
    {
      "cell_type": "markdown",
      "source": [
        "**DATA STANDARDIZATION**"
      ],
      "metadata": {
        "id": "NWI1FUihrOvK"
      }
    },
    {
      "cell_type": "code",
      "execution_count": null,
      "metadata": {
        "colab": {
          "base_uri": "https://localhost:8080/"
        },
        "id": "Iu9Gpa5B1hxQ",
        "outputId": "c3a5f9ab-b4ae-47cc-a18d-4058f8eccc28"
      },
      "outputs": [
        {
          "output_type": "stream",
          "name": "stdout",
          "text": [
            "[[ 0.76179885  1.07024218  1.04463493 ... -0.06105625 -0.02155152\n",
            "  -0.16927284]\n",
            " [ 0.76179885  1.07024218 -0.95727222 ... -0.06105625 -0.02155152\n",
            "  -0.16927284]\n",
            " [ 0.76179885  1.07024218 -0.95727222 ... -0.06105625 -0.02155152\n",
            "  -0.16927284]\n",
            " ...\n",
            " [ 0.76179885 -0.93436796  1.04463493 ... -0.06105625 -0.02155152\n",
            "  -0.16927284]\n",
            " [ 0.76179885 -0.93436796 -0.95727222 ... -0.06105625 -0.02155152\n",
            "  -0.16927284]\n",
            " [ 0.76179885  1.07024218 -0.95727222 ... -0.06105625 -0.02155152\n",
            "  -0.16927284]]\n"
          ]
        }
      ],
      "source": [
        "X = df.drop(columns = 'Class/ASD', axis=1)\n",
        "Y = df['Class/ASD']\n",
        "scaler = StandardScaler()\n",
        "scaler.fit(X)\n",
        "standardized_data = scaler.transform(X)\n",
        "print(standardized_data)"
      ]
    },
    {
      "cell_type": "markdown",
      "source": [
        "**TRAINING ADABOOST MODEL**"
      ],
      "metadata": {
        "id": "ZUX0F6h6rWSq"
      }
    },
    {
      "cell_type": "code",
      "source": [
        "X = standardized_data\n",
        "Y = df['Class/ASD']\n",
        "X_train, X_test, Y_train, Y_test = train_test_split(X,Y, test_size = 0.2, stratify=Y, random_state=2)\n",
        "print(X.shape, X_train.shape, X_test.shape)\n",
        "ada_clf = AdaBoostClassifier(n_estimators=50, random_state=42)\n",
        "\n",
        "# Fit the model on the training data\n",
        "ada_clf.fit(X_train, Y_train)"
      ],
      "metadata": {
        "colab": {
          "base_uri": "https://localhost:8080/",
          "height": 92
        },
        "id": "430U0wPl5Hbw",
        "outputId": "be073acc-7844-4143-a480-1045d34ec68f"
      },
      "execution_count": null,
      "outputs": [
        {
          "output_type": "stream",
          "name": "stdout",
          "text": [
            "(2154, 32) (1723, 32) (431, 32)\n"
          ]
        },
        {
          "output_type": "execute_result",
          "data": {
            "text/plain": [
              "AdaBoostClassifier(random_state=42)"
            ],
            "text/html": [
              "<style>#sk-container-id-3 {color: black;background-color: white;}#sk-container-id-3 pre{padding: 0;}#sk-container-id-3 div.sk-toggleable {background-color: white;}#sk-container-id-3 label.sk-toggleable__label {cursor: pointer;display: block;width: 100%;margin-bottom: 0;padding: 0.3em;box-sizing: border-box;text-align: center;}#sk-container-id-3 label.sk-toggleable__label-arrow:before {content: \"▸\";float: left;margin-right: 0.25em;color: #696969;}#sk-container-id-3 label.sk-toggleable__label-arrow:hover:before {color: black;}#sk-container-id-3 div.sk-estimator:hover label.sk-toggleable__label-arrow:before {color: black;}#sk-container-id-3 div.sk-toggleable__content {max-height: 0;max-width: 0;overflow: hidden;text-align: left;background-color: #f0f8ff;}#sk-container-id-3 div.sk-toggleable__content pre {margin: 0.2em;color: black;border-radius: 0.25em;background-color: #f0f8ff;}#sk-container-id-3 input.sk-toggleable__control:checked~div.sk-toggleable__content {max-height: 200px;max-width: 100%;overflow: auto;}#sk-container-id-3 input.sk-toggleable__control:checked~label.sk-toggleable__label-arrow:before {content: \"▾\";}#sk-container-id-3 div.sk-estimator input.sk-toggleable__control:checked~label.sk-toggleable__label {background-color: #d4ebff;}#sk-container-id-3 div.sk-label input.sk-toggleable__control:checked~label.sk-toggleable__label {background-color: #d4ebff;}#sk-container-id-3 input.sk-hidden--visually {border: 0;clip: rect(1px 1px 1px 1px);clip: rect(1px, 1px, 1px, 1px);height: 1px;margin: -1px;overflow: hidden;padding: 0;position: absolute;width: 1px;}#sk-container-id-3 div.sk-estimator {font-family: monospace;background-color: #f0f8ff;border: 1px dotted black;border-radius: 0.25em;box-sizing: border-box;margin-bottom: 0.5em;}#sk-container-id-3 div.sk-estimator:hover {background-color: #d4ebff;}#sk-container-id-3 div.sk-parallel-item::after {content: \"\";width: 100%;border-bottom: 1px solid gray;flex-grow: 1;}#sk-container-id-3 div.sk-label:hover label.sk-toggleable__label {background-color: #d4ebff;}#sk-container-id-3 div.sk-serial::before {content: \"\";position: absolute;border-left: 1px solid gray;box-sizing: border-box;top: 0;bottom: 0;left: 50%;z-index: 0;}#sk-container-id-3 div.sk-serial {display: flex;flex-direction: column;align-items: center;background-color: white;padding-right: 0.2em;padding-left: 0.2em;position: relative;}#sk-container-id-3 div.sk-item {position: relative;z-index: 1;}#sk-container-id-3 div.sk-parallel {display: flex;align-items: stretch;justify-content: center;background-color: white;position: relative;}#sk-container-id-3 div.sk-item::before, #sk-container-id-3 div.sk-parallel-item::before {content: \"\";position: absolute;border-left: 1px solid gray;box-sizing: border-box;top: 0;bottom: 0;left: 50%;z-index: -1;}#sk-container-id-3 div.sk-parallel-item {display: flex;flex-direction: column;z-index: 1;position: relative;background-color: white;}#sk-container-id-3 div.sk-parallel-item:first-child::after {align-self: flex-end;width: 50%;}#sk-container-id-3 div.sk-parallel-item:last-child::after {align-self: flex-start;width: 50%;}#sk-container-id-3 div.sk-parallel-item:only-child::after {width: 0;}#sk-container-id-3 div.sk-dashed-wrapped {border: 1px dashed gray;margin: 0 0.4em 0.5em 0.4em;box-sizing: border-box;padding-bottom: 0.4em;background-color: white;}#sk-container-id-3 div.sk-label label {font-family: monospace;font-weight: bold;display: inline-block;line-height: 1.2em;}#sk-container-id-3 div.sk-label-container {text-align: center;}#sk-container-id-3 div.sk-container {/* jupyter's `normalize.less` sets `[hidden] { display: none; }` but bootstrap.min.css set `[hidden] { display: none !important; }` so we also need the `!important` here to be able to override the default hidden behavior on the sphinx rendered scikit-learn.org. See: https://github.com/scikit-learn/scikit-learn/issues/21755 */display: inline-block !important;position: relative;}#sk-container-id-3 div.sk-text-repr-fallback {display: none;}</style><div id=\"sk-container-id-3\" class=\"sk-top-container\"><div class=\"sk-text-repr-fallback\"><pre>AdaBoostClassifier(random_state=42)</pre><b>In a Jupyter environment, please rerun this cell to show the HTML representation or trust the notebook. <br />On GitHub, the HTML representation is unable to render, please try loading this page with nbviewer.org.</b></div><div class=\"sk-container\" hidden><div class=\"sk-item\"><div class=\"sk-estimator sk-toggleable\"><input class=\"sk-toggleable__control sk-hidden--visually\" id=\"sk-estimator-id-3\" type=\"checkbox\" checked><label for=\"sk-estimator-id-3\" class=\"sk-toggleable__label sk-toggleable__label-arrow\">AdaBoostClassifier</label><div class=\"sk-toggleable__content\"><pre>AdaBoostClassifier(random_state=42)</pre></div></div></div></div></div>"
            ]
          },
          "metadata": {},
          "execution_count": 12
        }
      ]
    },
    {
      "cell_type": "markdown",
      "source": [
        "**MODEL EVALUATION**"
      ],
      "metadata": {
        "id": "mAE29fATsGOj"
      }
    },
    {
      "cell_type": "code",
      "source": [
        "# Accuracy on training set\n",
        "X_pred = ada_clf.predict(X_train)\n",
        "training_data_accuracy = accuracy_score(X_pred, Y_train)\n",
        "print('Accuracy of training data : ', training_data_accuracy)\n",
        "\n",
        "# Accuracy on test set\n",
        "Y_pred = ada_clf.predict(X_test)\n",
        "testing_data_accuracy = accuracy_score(Y_test, Y_pred)\n",
        "print('Accuracy of testing data: ',testing_data_accuracy)"
      ],
      "metadata": {
        "colab": {
          "base_uri": "https://localhost:8080/"
        },
        "id": "JdzLglAN5dr6",
        "outputId": "df862a23-f84e-4901-db31-ac41a76a7589"
      },
      "execution_count": null,
      "outputs": [
        {
          "output_type": "stream",
          "name": "stdout",
          "text": [
            "Accuracy of training data :  1.0\n",
            "Accuracy of testing data:  1.0\n"
          ]
        }
      ]
    },
    {
      "cell_type": "markdown",
      "source": [
        "**MAKING PREDICTIONS**"
      ],
      "metadata": {
        "id": "iy1z02BXsLam"
      }
    },
    {
      "cell_type": "code",
      "source": [
        "def preprocess_input(input_data):\n",
        "    replacement_mapping = {\n",
        "        'Self': 1, 'Parent': 1, 'Healthcare Professional': 1,\n",
        "        'Others': 0, 'Relative': 0, 'Female': 0,\n",
        "        'Male': 1, 'YES': 1, 'NO': 0, 'yes': 1, 'no': 0, 'Yes': 1, 'No': 0\n",
        "    }\n",
        "    mapped_data = tuple(replacement_mapping.get(value, value) for value in input_data)\n",
        "    return mapped_data\n",
        "\n",
        "input_data = (1, 1, 1, 1, 0, 0, 1, 1, 0, 0, 22, 'Female', 'No', 'Self')\n",
        "preprocessed_input_data = preprocess_input(input_data)\n",
        "\n",
        "# changing the input_data to numpy array\n",
        "input_data_as_numpy_array = np.asarray(preprocessed_input_data)\n",
        "\n",
        "# reshape the array as we are predicting for one instance\n",
        "input_data_reshaped = input_data_as_numpy_array.reshape(1,-1)\n",
        "\n",
        "# standardize the input data\n",
        "std_data = scaler.transform(input_data_reshaped)\n",
        "print(std_data)\n",
        "\n",
        "prediction = ada_clf.predict(std_data)\n",
        "print(prediction)\n",
        "\n",
        "if (prediction[0] == 0):\n",
        "  print('The person doesn\\'t have Autism spectrum disorder')\n",
        "else:\n",
        "  print('The person has Autism spectrum disorder')"
      ],
      "metadata": {
        "colab": {
          "base_uri": "https://localhost:8080/"
        },
        "id": "5u9EuGIu66FX",
        "outputId": "8218ead9-9adb-4789-aed5-6e237ed9da62"
      },
      "execution_count": null,
      "outputs": [
        {
          "output_type": "stream",
          "name": "stdout",
          "text": [
            "[[ 0.76179885  1.07024218  1.04463493  0.95816313 -1.1204898  -1.01779999\n",
            "   0.88326966  0.93436796 -0.90512803 -1.23619133  0.87560129 -1.30875756\n",
            "  -0.51605613  1.14940014]]\n",
            "[0]\n",
            "The person doesn't have Autism spectrum disorder\n"
          ]
        },
        {
          "output_type": "stream",
          "name": "stderr",
          "text": [
            "/usr/local/lib/python3.10/dist-packages/sklearn/base.py:439: UserWarning: X does not have valid feature names, but StandardScaler was fitted with feature names\n",
            "  warnings.warn(\n"
          ]
        }
      ]
    }
  ]
}